{
  "nbformat": 4,
  "nbformat_minor": 0,
  "metadata": {
    "colab": {
      "provenance": [],
      "authorship_tag": "ABX9TyP/8UjnwWRualsxlHJ+HjoF",
      "include_colab_link": true
    },
    "kernelspec": {
      "name": "python3",
      "display_name": "Python 3"
    },
    "language_info": {
      "name": "python"
    }
  },
  "cells": [
    {
      "cell_type": "markdown",
      "metadata": {
        "id": "view-in-github",
        "colab_type": "text"
      },
      "source": [
        "<a href=\"https://colab.research.google.com/github/Japkunwar/Python-Assignment/blob/main/Untitled2.ipynb\" target=\"_parent\"><img src=\"https://colab.research.google.com/assets/colab-badge.svg\" alt=\"Open In Colab\"/></a>"
      ]
    },
    {
      "cell_type": "code",
      "execution_count": 1,
      "metadata": {
        "colab": {
          "base_uri": "https://localhost:8080/"
        },
        "id": "xEIu9QzpeE7C",
        "outputId": "0b5e8a6f-24ac-49f9-d055-cc49644f566e"
      },
      "outputs": [
        {
          "output_type": "stream",
          "name": "stdout",
          "text": [
            "After adding 50 and 60: [11, 12, 13, 14, 50, 60]\n",
            "After removing 11 and 13: [12, 14, 50, 60]\n",
            "Sorted in ascending order: [12, 14, 50, 60]\n",
            "Sorted in descending order: [60, 50, 14, 12]\n",
            "Is 13 present in L? False\n",
            "Number of elements in L: 4\n",
            "Sum of all elements in L: 136\n",
            "Sum of all odd numbers in L: 0\n",
            "Sum of all even numbers in L: 136\n",
            "Sum of all prime numbers in L: 0\n",
            "List after clearing all elements: []\n",
            "List L has been deleted.\n"
          ]
        }
      ],
      "source": [
        "# Initial list\n",
        "L = [11, 12, 13, 14]\n",
        "\n",
        "# (i) Add 50 and 60 to L\n",
        "L.append(50)\n",
        "L.append(60)\n",
        "print(\"After adding 50 and 60:\", L)\n",
        "\n",
        "# (ii) Remove 11 and 13 from L\n",
        "L.remove(11)\n",
        "L.remove(13)\n",
        "print(\"After removing 11 and 13:\", L)\n",
        "\n",
        "# (iii) Sort L in ascending order\n",
        "L.sort()\n",
        "print(\"Sorted in ascending order:\", L)\n",
        "\n",
        "# (iv) Sort L in descending order\n",
        "L.sort(reverse=True)\n",
        "print(\"Sorted in descending order:\", L)\n",
        "\n",
        "# (v) Search for 13 in L\n",
        "is_thirteen_present = 13 in L\n",
        "print(\"Is 13 present in L?\", is_thirteen_present)\n",
        "\n",
        "# (vi) Count the number of elements present in L\n",
        "num_elements = len(L)\n",
        "print(\"Number of elements in L:\", num_elements)\n",
        "\n",
        "# (vii) Sum all the elements in L\n",
        "total_sum = sum(L)\n",
        "print(\"Sum of all elements in L:\", total_sum)\n",
        "\n",
        "# (viii) Sum all ODD numbers in L\n",
        "sum_odd = sum(x for x in L if x % 2 != 0)\n",
        "print(\"Sum of all odd numbers in L:\", sum_odd)\n",
        "\n",
        "# (ix) Sum all EVEN numbers in L\n",
        "sum_even = sum(x for x in L if x % 2 == 0)\n",
        "print(\"Sum of all even numbers in L:\", sum_even)\n",
        "\n",
        "# (x) Sum all PRIME numbers in L\n",
        "def is_prime(n):\n",
        "    if n <= 1:\n",
        "        return False\n",
        "    for i in range(2, int(n**0.5) + 1):\n",
        "        if n % i == 0:\n",
        "            return False\n",
        "    return True\n",
        "\n",
        "sum_prime = sum(x for x in L if is_prime(x))\n",
        "print(\"Sum of all prime numbers in L:\", sum_prime)\n",
        "\n",
        "# (xi) Clear all the elements in L\n",
        "L.clear()\n",
        "print(\"List after clearing all elements:\", L)\n",
        "\n",
        "# (xii) Delete L\n",
        "del L\n",
        "try:\n",
        "    print(L)\n",
        "except NameError:\n",
        "    print(\"List L has been deleted.\")\n"
      ]
    }
  ]
}